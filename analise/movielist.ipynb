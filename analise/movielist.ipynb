{
 "cells": [
  {
   "cell_type": "markdown",
   "id": "ec8fa44a",
   "metadata": {},
   "source": [
    "# Hipóteses trabalhadas para identificar o modelo de dados\n",
    "\n",
    "  1 - Separar em objetos diferentes normalizando os dados, ex: ano do evento, studios, produtores\n",
    "    - Eleva a complexidade da solução tendo que trabalhar com joins\n",
    "  2 - Alterar a granularidade dos objetos, como: studios e produtores\n",
    "    - Mais simples permite explorar subqueries no modelo OBT (One-Big-Table)\n",
    "\n",
    "Como os requisitos são específicos com a perguntas focadas em recursão a segunda hipótese é a mais interessante."
   ]
  },
  {
   "cell_type": "code",
   "execution_count": 45,
   "id": "ae1c4888",
   "metadata": {},
   "outputs": [
    {
     "name": "stdout",
     "output_type": "stream",
     "text": [
      "/home/adriano/Arquivos/Projetos/app-be-os-piorfilme/analise/.venv/bin/python3: No module named uv\n",
      "Note: you may need to restart the kernel to use updated packages.\n"
     ]
    }
   ],
   "source": [
    "%uv add polars\n"
   ]
  },
  {
   "cell_type": "code",
   "execution_count": null,
   "id": "449fcdb0",
   "metadata": {},
   "outputs": [],
   "source": [
    "import polars as pl\n"
   ]
  },
  {
   "cell_type": "code",
   "execution_count": null,
   "id": "fc292014",
   "metadata": {},
   "outputs": [],
   "source": [
    "# csv Movielist.csv schema\n",
    "# year;title;studios;producers;winner\n",
    "\n",
    "schema = pl.Schema(\n",
    "    {\n",
    "        \"year\": pl.Int32(),\n",
    "        \"title\": pl.String(),\n",
    "        \"studios\": pl.String(),\n",
    "        \"producers\": pl.String(),\n",
    "        \"winner\": pl.String(),\n",
    "    }\n",
    ")\n",
    "\n",
    "df: pl.DataFrame = pl.read_csv(\n",
    "    \"Movielist.csv\", schema=schema, separator=\";\", has_header=True, null_values=[\"\"]\n",
    ")\n"
   ]
  },
  {
   "cell_type": "code",
   "execution_count": null,
   "id": "d0f21ecb",
   "metadata": {},
   "outputs": [
    {
     "data": {
      "text/html": [
       "<div><style>\n",
       ".dataframe > thead > tr,\n",
       ".dataframe > tbody > tr {\n",
       "  text-align: right;\n",
       "  white-space: pre-wrap;\n",
       "}\n",
       "</style>\n",
       "<small>shape: (5, 5)</small><table border=\"1\" class=\"dataframe\"><thead><tr><th>year</th><th>title</th><th>studios</th><th>producers</th><th>winner</th></tr><tr><td>i32</td><td>str</td><td>str</td><td>str</td><td>str</td></tr></thead><tbody><tr><td>1980</td><td>&quot;Can&#x27;t Stop the Music&quot;</td><td>&quot;Associated Film Distribution&quot;</td><td>&quot;Allan Carr&quot;</td><td>&quot;yes&quot;</td></tr><tr><td>1980</td><td>&quot;Cruising&quot;</td><td>&quot;Lorimar Productions, United Ar…</td><td>&quot;Jerry Weintraub&quot;</td><td>null</td></tr><tr><td>1980</td><td>&quot;The Formula&quot;</td><td>&quot;MGM, United Artists&quot;</td><td>&quot;Steve Shagan&quot;</td><td>null</td></tr><tr><td>1980</td><td>&quot;Friday the 13th&quot;</td><td>&quot;Paramount Pictures&quot;</td><td>&quot;Sean S. Cunningham&quot;</td><td>null</td></tr><tr><td>1980</td><td>&quot;The Nude Bomb&quot;</td><td>&quot;Universal Studios&quot;</td><td>&quot;Jennings Lang&quot;</td><td>null</td></tr></tbody></table></div>"
      ],
      "text/plain": [
       "shape: (5, 5)\n",
       "┌──────┬──────────────────────┬─────────────────────────────────┬────────────────────┬────────┐\n",
       "│ year ┆ title                ┆ studios                         ┆ producers          ┆ winner │\n",
       "│ ---  ┆ ---                  ┆ ---                             ┆ ---                ┆ ---    │\n",
       "│ i32  ┆ str                  ┆ str                             ┆ str                ┆ str    │\n",
       "╞══════╪══════════════════════╪═════════════════════════════════╪════════════════════╪════════╡\n",
       "│ 1980 ┆ Can't Stop the Music ┆ Associated Film Distribution    ┆ Allan Carr         ┆ yes    │\n",
       "│ 1980 ┆ Cruising             ┆ Lorimar Productions, United Ar… ┆ Jerry Weintraub    ┆ null   │\n",
       "│ 1980 ┆ The Formula          ┆ MGM, United Artists             ┆ Steve Shagan       ┆ null   │\n",
       "│ 1980 ┆ Friday the 13th      ┆ Paramount Pictures              ┆ Sean S. Cunningham ┆ null   │\n",
       "│ 1980 ┆ The Nude Bomb        ┆ Universal Studios               ┆ Jennings Lang      ┆ null   │\n",
       "└──────┴──────────────────────┴─────────────────────────────────┴────────────────────┴────────┘"
      ]
     },
     "execution_count": 48,
     "metadata": {},
     "output_type": "execute_result"
    }
   ],
   "source": [
    "df.head()\n"
   ]
  },
  {
   "cell_type": "code",
   "execution_count": null,
   "id": "0074f2e4",
   "metadata": {},
   "outputs": [],
   "source": [
    "# Função para dividir produtores por ',' e 'and'\n",
    "import re\n",
    "\n",
    "\n",
    "def split_producers(producers):\n",
    "    if producers is None:\n",
    "        return []\n",
    "    return [p.strip() for p in re.split(r\",| and \", producers) if p.strip()]\n"
   ]
  },
  {
   "cell_type": "code",
   "execution_count": null,
   "id": "e7160988",
   "metadata": {},
   "outputs": [
    {
     "name": "stderr",
     "output_type": "stream",
     "text": [
      "/tmp/ipykernel_26561/2074363542.py:2: MapWithoutReturnDtypeWarning: 'return_dtype' of function python_udf must be set\n",
      "\n",
      "A later expression might fail because the output type is not known. Set return_dtype=pl.self_dtype() if the type is unchanged, or set the proper output data type.\n",
      "  df = df.with_columns(\n"
     ]
    }
   ],
   "source": [
    "# Aplica a função e explode as linhas\n",
    "df = df.with_columns(\n",
    "    pl.col(\"producers\").map_elements(split_producers).alias(\"producers\")\n",
    ").explode(\"producers\")\n",
    "\n",
    "# Salva o resultado\n",
    "df.write_csv(\"Movielist_Producers_one_per_line.csv\", separator=\";\")\n"
   ]
  },
  {
   "cell_type": "code",
   "execution_count": null,
   "id": "69e54c4a",
   "metadata": {
    "vscode": {
     "languageId": "sql"
    }
   },
   "outputs": [],
   "source": [
    "# Etapas da construção da consulta\n",
    "\n",
    "  1 - Separação dos produtores sendo um por linha\n",
    "  2 - Contando vitórias\n",
    "  3 - Identificando a primeira vitória\n",
    "  4 - Identificando a próxima vitória através da remoção da primeira vitória\n",
    "  5 - Calculando o intervalo entre vitórias\n",
    "\n",
    "\n",
    "```console\n",
    "select \n",
    "\tfilms.producers,\n",
    "\t(select count(*) from films as f_s where f_s.producers = films.producers and f_s.winner = \"yes\") as wins,\n",
    "\t(\n",
    "\t\t(select min(year) from films as f_s_nw where f_s_nw.producers = films.producers and f_s_nw.winner = \"yes\" and f_s_nw.year not in (select min(year) from films as f_s_fw where f_s_fw.producers = films.producers and f_s_fw.winner = \"yes\")) -\n",
    "\t\t(select min(year) from films as f_s_fw where f_s_fw.producers = films.producers and f_s_fw.winner = \"yes\")\n",
    "\t) as wins_interval,\n",
    "\t(select min(year) from films as f_s_fw where f_s_fw.producers = films.producers and f_s_fw.winner = \"yes\") as first_win,\n",
    "\t\n",
    "\t(select min(year) from films as f_s_nw where f_s_nw.producers = films.producers and f_s_nw.winner = \"yes\" and f_s_nw.year not in (select min(year) from films as f_s_fw where f_s_fw.producers = films.producers and f_s_fw.winner = \"yes\")) as next_win\n",
    "\t\n",
    "from films\n",
    "GROUP by films.producers\n",
    "ORDER by wins DESC\n",
    "```\n"
   ]
  }
 ],
 "metadata": {
  "kernelspec": {
   "display_name": "Python 3 (ipykernel)",
   "language": "python",
   "name": "python3"
  }
 },
 "nbformat": 4,
 "nbformat_minor": 5
}
